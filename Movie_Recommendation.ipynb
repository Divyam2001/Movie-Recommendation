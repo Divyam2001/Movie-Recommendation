{
 "cells": [
  {
   "cell_type": "code",
   "execution_count": 3,
   "metadata": {},
   "outputs": [],
   "source": [
    "import pandas as pd\n",
    "import numpy as np\n",
    "from sklearn.feature_extraction.text import CountVectorizer\n",
    "from sklearn.metrics.pairwise import cosine_similarity"
   ]
  },
  {
   "cell_type": "code",
   "execution_count": 4,
   "metadata": {},
   "outputs": [],
   "source": [
    "###### helper functions. Use them when needed #######\n",
    "def get_title_from_index(index):\n",
    "\treturn df[df.index == index][\"title\"].values[0]\n",
    "\n",
    "def get_index_from_title(title):\n",
    "\treturn df[df.title == title][\"index\"].values[0]\n",
    "##################################################"
   ]
  },
  {
   "cell_type": "code",
   "execution_count": 5,
   "metadata": {},
   "outputs": [
    {
     "data": {
      "text/plain": [
       "Index(['index', 'budget', 'genres', 'homepage', 'id', 'keywords',\n",
       "       'original_language', 'original_title', 'overview', 'popularity',\n",
       "       'production_companies', 'production_countries', 'release_date',\n",
       "       'revenue', 'runtime', 'spoken_languages', 'status', 'tagline', 'title',\n",
       "       'vote_average', 'vote_count', 'cast', 'crew', 'director'],\n",
       "      dtype='object')"
      ]
     },
     "execution_count": 5,
     "metadata": {},
     "output_type": "execute_result"
    }
   ],
   "source": [
    "##Step 1: Read CSV File\n",
    "df = pd.read_csv(\"movie_dataset.csv\")\n",
    "##df.head()\n",
    "df.columns"
   ]
  },
  {
   "cell_type": "code",
   "execution_count": 20,
   "metadata": {},
   "outputs": [
    {
     "name": "stdout",
     "output_type": "stream",
     "text": [
      "634\n",
      "Lilly Wachowski\n"
     ]
    }
   ],
   "source": [
    "##Step 2: Select Features\n",
    "features = ['keywords','cast','genres','director']\n",
    "ind = get_index_from_title(\"The Matrix\")\n",
    "print(ind)\n",
    "print(df[df.index == ind][\"director\"].values[0])"
   ]
  },
  {
   "cell_type": "code",
   "execution_count": 6,
   "metadata": {},
   "outputs": [
    {
     "name": "stdout",
     "output_type": "stream",
     "text": [
      "Combined Features: 0    culture clash future space war space colony so...\n",
      "1    ocean drug abuse exotic island east india trad...\n",
      "2    spy based on novel secret agent sequel mi6 Dan...\n",
      "3    dc comics crime fighter terrorist secret ident...\n",
      "4    based on novel mars medallion space travel pri...\n",
      "Name: Combined_Features, dtype: object\n"
     ]
    }
   ],
   "source": [
    "##Step 3: Create a column in DF which combines all selected features\n",
    "for feature in features:\n",
    "    df[feature] = df[feature].fillna('')\n",
    "\n",
    "def combine_features(row):\n",
    "    try:\n",
    "        return row[\"keywords\"]+\" \"+row[\"cast\"]+\" \"+row[\"genres\"]+\" \"+row[\"director\"]\n",
    "    except:\n",
    "        print (\"Error: \", row)\n",
    "        \n",
    "df[\"Combined_Features\"] = df.apply(combine_features,axis = 1)\n",
    "print (\"Combined Features:\", df[\"Combined_Features\"].head())"
   ]
  },
  {
   "cell_type": "code",
   "execution_count": 12,
   "metadata": {},
   "outputs": [
    {
     "name": "stdout",
     "output_type": "stream",
     "text": [
      "  (0, 3115)\t1\n",
      "  (0, 2616)\t1\n",
      "  (0, 4886)\t1\n",
      "  (0, 12386)\t2\n",
      "  (0, 14235)\t1\n",
      "  (0, 2755)\t1\n",
      "  (0, 12299)\t1\n",
      "  (0, 11517)\t1\n",
      "  (0, 14561)\t1\n",
      "  (0, 14820)\t1\n",
      "  (0, 11490)\t1\n",
      "  (0, 12134)\t1\n",
      "  (0, 14291)\t1\n",
      "  (0, 12567)\t1\n",
      "  (0, 7496)\t1\n",
      "  (0, 8831)\t1\n",
      "  (0, 11217)\t1\n",
      "  (0, 86)\t1\n",
      "  (0, 144)\t1\n",
      "  (0, 4435)\t1\n",
      "  (0, 11745)\t1\n",
      "  (0, 4566)\t1\n",
      "  (0, 6542)\t1\n",
      "  (0, 2061)\t1\n",
      "  (1, 86)\t1\n",
      "  :\t:\n",
      "  (4801, 10069)\t1\n",
      "  (4801, 5844)\t1\n",
      "  (4801, 252)\t1\n",
      "  (4801, 4098)\t1\n",
      "  (4801, 14796)\t1\n",
      "  (4801, 11361)\t1\n",
      "  (4801, 2978)\t1\n",
      "  (4801, 12036)\t1\n",
      "  (4801, 6138)\t1\n",
      "  (4802, 9659)\t1\n",
      "  (4802, 3812)\t1\n",
      "  (4802, 1788)\t2\n",
      "  (4802, 4210)\t1\n",
      "  (4802, 5181)\t1\n",
      "  (4802, 2912)\t1\n",
      "  (4802, 3821)\t1\n",
      "  (4802, 1069)\t1\n",
      "  (4802, 11185)\t1\n",
      "  (4802, 3681)\t1\n",
      "  (4802, 5399)\t1\n",
      "  (4802, 3894)\t1\n",
      "  (4802, 2056)\t1\n",
      "  (4802, 3093)\t1\n",
      "  (4802, 4502)\t1\n",
      "  (4802, 5900)\t2\n"
     ]
    }
   ],
   "source": [
    "##Step 4: Create count matrix from this new combined column\n",
    "cv = CountVectorizer()\n",
    "count_matrix = cv.fit_transform(df[\"Combined_Features\"])\n",
    "print (count_matrix)"
   ]
  },
  {
   "cell_type": "code",
   "execution_count": 21,
   "metadata": {},
   "outputs": [],
   "source": [
    "##Step 5: Compute the Cosine Similarity based on the count_matrix\n",
    "cosine_sim = cosine_similarity(count_matrix)\n",
    "movie_user_likes = \"Ice Age\"\n",
    "\n"
   ]
  },
  {
   "cell_type": "code",
   "execution_count": 22,
   "metadata": {},
   "outputs": [],
   "source": [
    "## Step 6: Get index of this movie from its title\n",
    "movie_index = get_index_from_title(movie_user_likes)\n",
    "similar_movies = list(enumerate(cosine_sim[movie_index]))\n"
   ]
  },
  {
   "cell_type": "code",
   "execution_count": 23,
   "metadata": {},
   "outputs": [],
   "source": [
    "## Step 7: Get a list of similar movies in descending order of similarity score\n",
    "\n",
    "sorted_similar_movies = sorted(similar_movies,key = lambda x:x[1], reverse=True)\n"
   ]
  },
  {
   "cell_type": "code",
   "execution_count": 24,
   "metadata": {},
   "outputs": [
    {
     "name": "stdout",
     "output_type": "stream",
     "text": [
      "Ice Age\n",
      "Ice Age: Continental Drift\n",
      "Ice Age: Dawn of the Dinosaurs\n",
      "Ice Age: The Meltdown\n",
      "Spy Kids\n",
      "Bolt\n",
      "Friday\n",
      "Joe Dirt\n",
      "Penguins of Madagascar\n",
      "Monster's Ball\n",
      "Beginners\n",
      "Cars 2\n",
      "Wreck-It Ralph\n",
      "Kung Fu Panda\n",
      "Mrs. Doubtfire\n",
      "Spirited Away\n",
      "The Shaggy Dog\n",
      "Shrek the Third\n",
      "Kung Fu Panda 3\n",
      "Kung Pow: Enter the Fist\n",
      "Walking With Dinosaurs\n",
      "Rugrats in Paris: The Movie\n",
      "Cold Mountain\n",
      "The Nut Job\n",
      "Legend of a Rabbit\n",
      "Inside Out\n",
      "Big Hero 6\n",
      "In the Name of the King: A Dungeon Siege Tale\n",
      "The Ant Bully\n",
      "The Borrowers\n",
      "Raising Helen\n",
      "White Oleander\n",
      "Shark Tale\n",
      "The Lego Movie\n",
      "Aliens in the Attic\n",
      "Mary Poppins\n",
      "Jesus' Son\n",
      "The Next Best Thing\n",
      "Super Mario Bros.\n",
      "TMNT\n",
      "Epic\n",
      "Ballistic: Ecks vs. Sever\n",
      "My Big Fat Greek Wedding 2\n",
      "Robots\n",
      "Goosebumps\n",
      "Jimmy Neutron: Boy Genius\n",
      "The Jungle Book 2\n",
      "Ramona and Beezus\n",
      "Stuart Little 2\n",
      "Spirit: Stallion of the Cimarron\n",
      "Titan A.E.\n"
     ]
    }
   ],
   "source": [
    "## Step 8: Print titles of first 50 movies\n",
    "i = 0\n",
    "for movies in sorted_similar_movies:\n",
    "    print (get_title_from_index(movies[0]))\n",
    "    i = i+1\n",
    "    if i>50:\n",
    "        break;"
   ]
  },
  {
   "cell_type": "code",
   "execution_count": null,
   "metadata": {},
   "outputs": [],
   "source": []
  }
 ],
 "metadata": {
  "kernelspec": {
   "display_name": "Python 3",
   "language": "python",
   "name": "python3"
  },
  "language_info": {
   "codemirror_mode": {
    "name": "ipython",
    "version": 3
   },
   "file_extension": ".py",
   "mimetype": "text/x-python",
   "name": "python",
   "nbconvert_exporter": "python",
   "pygments_lexer": "ipython3",
   "version": "3.7.6"
  }
 },
 "nbformat": 4,
 "nbformat_minor": 4
}
